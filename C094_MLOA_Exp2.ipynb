{
  "nbformat": 4,
  "nbformat_minor": 0,
  "metadata": {
    "colab": {
      "provenance": []
    },
    "kernelspec": {
      "name": "python3",
      "display_name": "Python 3"
    },
    "language_info": {
      "name": "python"
    }
  },
  "cells": [
    {
      "cell_type": "markdown",
      "source": [
        "Name: Sachi Shah <br>\n",
        "Roll no: C094<br>\n",
        "Div: C<br>\n",
        "Aim: Handwritten digit recogniton using PCA and SVM"
      ],
      "metadata": {
        "id": "-5ust9rPc81k"
      }
    },
    {
      "cell_type": "code",
      "execution_count": null,
      "metadata": {
        "id": "FAUqZBd6arJb"
      },
      "outputs": [],
      "source": [
        "import numpy as np\n",
        "import pandas as pd\n",
        "import matplotlib.pyplot as plt\n",
        "import seaborn as sns"
      ]
    },
    {
      "cell_type": "code",
      "source": [
        "# Loading dataset\n",
        "from keras.datasets import mnist"
      ],
      "metadata": {
        "id": "KgVac9gYg9ad"
      },
      "execution_count": null,
      "outputs": []
    },
    {
      "cell_type": "code",
      "source": [
        "# The MNIST data is split between 60,000 training images and 10,000 test image\n",
        "(X_train, y_train), (X_test, y_test) = mnist.load_data()\n",
        "\n",
        "print(\"X_train shape\", X_train.shape)\n",
        "print(\"y_train shape\", y_train.shape)\n",
        "print(\"X_test shape\", X_test.shape)\n",
        "print(\"y_test shape\", y_test.shape)"
      ],
      "metadata": {
        "colab": {
          "base_uri": "https://localhost:8080/"
        },
        "id": "NU20vz7ag9dV",
        "outputId": "1fd6bb4d-078e-4736-fcaa-c8db97456912"
      },
      "execution_count": null,
      "outputs": [
        {
          "output_type": "stream",
          "name": "stdout",
          "text": [
            "Downloading data from https://storage.googleapis.com/tensorflow/tf-keras-datasets/mnist.npz\n",
            "11490434/11490434 [==============================] - 1s 0us/step\n",
            "X_train shape (60000, 28, 28)\n",
            "y_train shape (60000,)\n",
            "X_test shape (10000, 28, 28)\n",
            "y_test shape (10000,)\n"
          ]
        }
      ]
    },
    {
      "cell_type": "code",
      "source": [
        "fig = plt.figure(figsize=(6, 6))\n",
        "fig.subplots_adjust(left=0, right=1, bottom=0, top=1, hspace=0.05, wspace=0.05)\n",
        "\n",
        "for i in range(20):\n",
        "    ax = fig.add_subplot(5, 5, i + 1, xticks=[], yticks=[])\n",
        "    ax.imshow(X_train[i], cmap=plt.cm.binary, interpolation='nearest')\n",
        "    # label the image with the target value\n",
        "    ax.text(0, 7, str(y_train[i]))"
      ],
      "metadata": {
        "colab": {
          "base_uri": "https://localhost:8080/",
          "height": 379
        },
        "id": "xDgzmN2Vg9f4",
        "outputId": "01ade986-210c-4570-876c-5136b0896102"
      },
      "execution_count": null,
      "outputs": [
        {
          "output_type": "display_data",
          "data": {
            "text/plain": [
              "<Figure size 432x432 with 20 Axes>"
            ],
            "image/png": "[encoded data removed]"
          },
          "metadata": {}
        }
      ]
    },
    {
      "cell_type": "code",
      "source": [
        "# Reshaping the dataset\n",
        "X_train = X_train.reshape(60000, 784) \n",
        "X_test = X_test.reshape(10000, 784)  \n",
        "\n",
        "# Change integers to 32-bit floating point numbers\n",
        "X_train = X_train.astype('float32')   \n",
        "X_test = X_test.astype('float32')\n",
        "\n",
        "print(\"Training matrix shape\", X_train.shape)\n",
        "print(\"Testing matrix shape\", X_test.shape)"
      ],
      "metadata": {
        "colab": {
          "base_uri": "https://localhost:8080/"
        },
        "id": "SA_W0OXpg9iM",
        "outputId": "407a8ccf-1eed-41ee-edf1-63a4b356aa86"
      },
      "execution_count": null,
      "outputs": [
        {
          "output_type": "stream",
          "name": "stdout",
          "text": [
            "Training matrix shape (60000, 784)\n",
            "Testing matrix shape (10000, 784)\n"
          ]
        }
      ]
    },
    {
      "cell_type": "code",
      "source": [
        "# Apply standarization to both train and test data\n",
        "from sklearn.preprocessing import StandardScaler\n",
        "X_train = StandardScaler().fit_transform(X_train)\n",
        "X_test = StandardScaler().fit_transform(X_test)"
      ],
      "metadata": {
        "id": "WRSKVv3kg9kU"
      },
      "execution_count": null,
      "outputs": []
    },
    {
      "cell_type": "code",
      "source": [
        "from sklearn.decomposition import PCA"
      ],
      "metadata": {
        "id": "UGD9JNORg9m4"
      },
      "execution_count": null,
      "outputs": []
    },
    {
      "cell_type": "code",
      "source": [
        "# Fit the PCA on the training set and set the model to retain 95% of the variance\n",
        "pca = PCA(n_components=.95)\n",
        "pca.fit(X_train)"
      ],
      "metadata": {
        "colab": {
          "base_uri": "https://localhost:8080/"
        },
        "id": "h6GxoOcNhmvC",
        "outputId": "8d09d097-cd00-4766-e63a-f5c94d3b4c6c"
      },
      "execution_count": null,
      "outputs": [
        {
          "output_type": "execute_result",
          "data": {
            "text/plain": [
              "PCA(n_components=0.95)"
            ]
          },
          "metadata": {},
          "execution_count": 32
        }
      ]
    },
    {
      "cell_type": "code",
      "source": [
        "print(f'Total number of components used after PCA : {pca.n_components_}')"
      ],
      "metadata": {
        "colab": {
          "base_uri": "https://localhost:8080/"
        },
        "id": "9E1iP9gohmxr",
        "outputId": "00353fce-5c31-4447-d94f-0f04887cec04"
      },
      "execution_count": null,
      "outputs": [
        {
          "output_type": "stream",
          "name": "stdout",
          "text": [
            "Total number of components used after PCA : 331\n"
          ]
        }
      ]
    },
    {
      "cell_type": "code",
      "source": [
        "# Apply the mapping to the training & test set of data\n",
        "train_img = pca.transform(X_train)\n",
        "test_img = pca.transform(X_test)\n",
        "\n",
        "print(f'train_img shape : {train_img.shape}')\n",
        "print(f'test_img shape : {test_img.shape}')"
      ],
      "metadata": {
        "colab": {
          "base_uri": "https://localhost:8080/"
        },
        "id": "22VZwlt4hm0B",
        "outputId": "ad01af36-e545-475f-aad1-187eec7093ee"
      },
      "execution_count": null,
      "outputs": [
        {
          "output_type": "stream",
          "name": "stdout",
          "text": [
            "train_img shape : (60000, 331)\n",
            "test_img shape : (10000, 331)\n"
          ]
        }
      ]
    },
    {
      "cell_type": "code",
      "source": [
        "from sklearn.neural_network import MLPClassifier"
      ],
      "metadata": {
        "id": "025THVbph1aJ"
      },
      "execution_count": null,
      "outputs": []
    },
    {
      "cell_type": "code",
      "source": [
        "clf = MLPClassifier(solver = 'lbfgs')"
      ],
      "metadata": {
        "id": "adIziwpnh1dA"
      },
      "execution_count": null,
      "outputs": []
    },
    {
      "cell_type": "code",
      "source": [
        "clf.fit(train_img, y_train)"
      ],
      "metadata": {
        "colab": {
          "base_uri": "https://localhost:8080/"
        },
        "id": "_cJhH2Fjh1fK",
        "outputId": "f8b01667-247a-44bc-f10a-0587a38f51bc"
      },
      "execution_count": null,
      "outputs": [
        {
          "output_type": "execute_result",
          "data": {
            "text/plain": [
              "MLPClassifier(solver='lbfgs')"
            ]
          },
          "metadata": {},
          "execution_count": 37
        }
      ]
    },
    {
      "cell_type": "code",
      "source": [
        "print('Training score : ', clf.score(train_img, y_train))\n",
        "print('Testing score  : ', clf.score(test_img, y_test))"
      ],
      "metadata": {
        "colab": {
          "base_uri": "https://localhost:8080/"
        },
        "id": "ua--Mxyhh1ja",
        "outputId": "7fa7df5f-a94e-4c34-8a9d-1fe77645678f"
      },
      "execution_count": null,
      "outputs": [
        {
          "output_type": "stream",
          "name": "stdout",
          "text": [
            "Training score :  1.0\n",
            "Testing score  :  0.9721\n"
          ]
        }
      ]
    },
    {
      "cell_type": "code",
      "source": [
        "X_train.shape"
      ],
      "metadata": {
        "colab": {
          "base_uri": "https://localhost:8080/"
        },
        "id": "JZ4btOzria5F",
        "outputId": "fa7724ad-c8c8-4acb-82f2-f545f31a427f"
      },
      "execution_count": null,
      "outputs": [
        {
          "output_type": "execute_result",
          "data": {
            "text/plain": [
              "(60000, 784)"
            ]
          },
          "metadata": {},
          "execution_count": 39
        }
      ]
    },
    {
      "cell_type": "code",
      "source": [
        "from sklearn.decomposition import PCA\n",
        "list_variance = [.85, .90, .95, .99]\n",
        "train_data = []\n",
        "test_data = []\n",
        "i = 0\n",
        "\n",
        "for variance in list_variance:\n",
        "  print(f'Dataset dimensional reduction with {variance*100}% variance retained')\n",
        "  print('='*60)\n",
        "\n",
        "  pca = PCA(n_components=variance)\n",
        "  pca.fit(X_train)\n",
        "\n",
        "  train_data.append(pca.transform(X_train))\n",
        "  test_data.append(pca.transform(X_test))\n",
        "\n",
        "  print(f'> Total number of components for variance {variance} : {pca.n_components_}')\n",
        "  print(f'> Train data shape : {train_data[i].shape}')\n",
        "  print(f'> Test data shape  : {test_data[i].shape}\\n')\n",
        "  i += 1"
      ],
      "metadata": {
        "colab": {
          "base_uri": "https://localhost:8080/"
        },
        "id": "wCTbcTAaia-T",
        "outputId": "bc32b088-fc15-41f1-ca2b-d4f1d71c4efb"
      },
      "execution_count": null,
      "outputs": [
        {
          "output_type": "stream",
          "name": "stdout",
          "text": [
            "Dataset dimensional reduction with 85.0% variance retained\n",
            "============================================================\n",
            "> Total number of components for variance 0.85 : 185\n",
            "> Train data shape : (60000, 185)\n",
            "> Test data shape  : (10000, 185)\n",
            "\n",
            "Dataset dimensional reduction with 90.0% variance retained\n",
            "============================================================\n",
            "> Total number of components for variance 0.9 : 236\n",
            "> Train data shape : (60000, 236)\n",
            "> Test data shape  : (10000, 236)\n",
            "\n",
            "Dataset dimensional reduction with 95.0% variance retained\n",
            "============================================================\n",
            "> Total number of components for variance 0.95 : 331\n",
            "> Train data shape : (60000, 331)\n",
            "> Test data shape  : (10000, 331)\n",
            "\n",
            "Dataset dimensional reduction with 99.0% variance retained\n",
            "============================================================\n",
            "> Total number of components for variance 0.99 : 543\n",
            "> Train data shape : (60000, 543)\n",
            "> Test data shape  : (10000, 543)\n",
            "\n"
          ]
        }
      ]
    },
    {
      "cell_type": "code",
      "source": [
        "from sklearn.neural_network import MLPClassifier\n",
        "import time\n",
        "import warnings\n",
        "warnings.filterwarnings(\"ignore\")"
      ],
      "metadata": {
        "id": "X19NeQ5SibCL"
      },
      "execution_count": null,
      "outputs": []
    },
    {
      "cell_type": "code",
      "source": [
        "start_time = time.time()\n",
        "clf = MLPClassifier(solver = 'lbfgs', max_iter=100)\n",
        "clf.fit(X_train, y_train)\n",
        "end_time = time.time()\n",
        "\n",
        "print(f'Control result with original dataset (100% variance)')\n",
        "print('='*60)\n",
        "print(f'Training score : ', clf.score(X_train, y_train))\n",
        "print(f'Testing score  : ', clf.score(X_test, y_test))\n",
        "print(f'Time (seconds) : {end_time - start_time} \\n')"
      ],
      "metadata": {
        "colab": {
          "base_uri": "https://localhost:8080/"
        },
        "id": "nmaACWjZibHb",
        "outputId": "fa718c42-dd0d-4a53-d8c3-9abf1ac4d845"
      },
      "execution_count": null,
      "outputs": [
        {
          "output_type": "stream",
          "name": "stdout",
          "text": [
            "Control result with original dataset (100% variance)\n",
            "============================================================\n",
            "Training score :  1.0\n",
            "Testing score  :  0.9744\n",
            "Time (seconds) : 110.30193161964417 \n",
            "\n"
          ]
        }
      ]
    },
    {
      "cell_type": "code",
      "source": [
        "for i in range(0, 4):\n",
        "  start_time = time.time()\n",
        "  clf = MLPClassifier(solver = 'lbfgs', max_iter=100)\n",
        "  clf.fit(train_data[i], y_train)\n",
        "  end_time = time.time()\n",
        "\n",
        "  print(f'Dataset with {list_variance[i]*100}% variance retained')\n",
        "  print('='*40)\n",
        "  print(f'Training score : ', clf.score(train_data[i], y_train))\n",
        "  print(f'Testing score  : ', clf.score(test_data[i], y_test))\n",
        "  print(f'Time (seconds) : {end_time - start_time} \\n')"
      ],
      "metadata": {
        "colab": {
          "base_uri": "https://localhost:8080/"
        },
        "id": "_UH_OFs_ibNM",
        "outputId": "06d9c1ad-b5a3-46a4-bcb1-ad9ee835dfff"
      },
      "execution_count": null,
      "outputs": [
        {
          "output_type": "stream",
          "name": "stdout",
          "text": [
            "Dataset with 85.0% variance retained\n",
            "========================================\n",
            "Training score :  0.9999666666666667\n",
            "Testing score  :  0.9711\n",
            "Time (seconds) : 64.82538676261902 \n",
            "\n",
            "Dataset with 90.0% variance retained\n",
            "========================================\n",
            "Training score :  1.0\n",
            "Testing score  :  0.9725\n",
            "Time (seconds) : 79.69217848777771 \n",
            "\n",
            "Dataset with 95.0% variance retained\n",
            "========================================\n",
            "Training score :  1.0\n",
            "Testing score  :  0.9753\n",
            "Time (seconds) : 83.70696640014648 \n",
            "\n",
            "Dataset with 99.0% variance retained\n",
            "========================================\n",
            "Training score :  1.0\n",
            "Testing score  :  0.975\n",
            "Time (seconds) : 92.29629445075989 \n",
            "\n"
          ]
        }
      ]
    },
    {
      "cell_type": "code",
      "source": [
        "import numpy as np\n",
        "import matplotlib.pyplot as plt\n",
        "from sklearn.model_selection import learning_curve\n",
        "from sklearn.model_selection import ShuffleSplit\n",
        "\n",
        "def plot_learning_curve(estimator, title, X, y, axes=None, ylim=None, cv=None,\n",
        "                        n_jobs=None, train_sizes=np.linspace(.1, 1.0, 5)):\n",
        "    if axes is None:\n",
        "        _, axes = plt.subplots(1, 2, figsize=(8, 5))\n",
        "\n",
        "    axes[0].set_title(title)\n",
        "    if ylim is not None:\n",
        "        axes[0].set_ylim(*ylim)\n",
        "    axes[0].set_xlabel(\"Training examples\")\n",
        "    axes[0].set_ylabel(\"Score\")\n",
        "\n",
        "    train_sizes, train_scores, test_scores, fit_times, _ = \\\n",
        "        learning_curve(estimator, X, y, cv=cv, n_jobs=n_jobs,\n",
        "                       train_sizes=train_sizes,\n",
        "                       return_times=True)\n",
        "    train_scores_mean = np.mean(train_scores, axis=1)\n",
        "    train_scores_std = np.std(train_scores, axis=1)\n",
        "    test_scores_mean = np.mean(test_scores, axis=1)\n",
        "    test_scores_std = np.std(test_scores, axis=1)\n",
        "    fit_times_mean = np.mean(fit_times, axis=1)\n",
        "    fit_times_std = np.std(fit_times, axis=1)\n",
        "\n",
        "    # Plot learning curve\n",
        "    axes[0].grid()\n",
        "    axes[0].fill_between(train_sizes, train_scores_mean - train_scores_std,\n",
        "                         train_scores_mean + train_scores_std, alpha=0.1,\n",
        "                         color=\"r\")\n",
        "    axes[0].fill_between(train_sizes, test_scores_mean - test_scores_std,\n",
        "                         test_scores_mean + test_scores_std, alpha=0.1,\n",
        "                         color=\"g\")\n",
        "    axes[0].plot(train_sizes, train_scores_mean, 'o-', color=\"r\",\n",
        "                 label=\"Training score\")\n",
        "    axes[0].plot(train_sizes, test_scores_mean, 'o-', color=\"g\",\n",
        "                 label=\"Cross-validation score\")\n",
        "    axes[0].legend(loc=\"best\")\n",
        "\n",
        "    # Plot fit_time vs score\n",
        "    axes[1].grid()\n",
        "    axes[1].plot(fit_times_mean, test_scores_mean, 'o-')\n",
        "    axes[1].fill_between(fit_times_mean, test_scores_mean - test_scores_std,\n",
        "                         test_scores_mean + test_scores_std, alpha=0.1)\n",
        "    axes[1].set_xlabel(\"fit_times\")\n",
        "    axes[1].set_ylabel(\"Score\")\n",
        "    axes[1].set_title(\"Performance of the model\")\n",
        "\n",
        "    return plt"
      ],
      "metadata": {
        "id": "UVtQoBFsibPz"
      },
      "execution_count": null,
      "outputs": []
    },
    {
      "cell_type": "code",
      "source": [
        "# Calculate component reduction percentage\n",
        "\n",
        "components = [185, 236, 331, 543, 784]\n",
        "components_reduction = []\n",
        "\n",
        "for cc in components:\n",
        "  z = (1.0 - (cc / 784)) * 100\n",
        "  z = round(z, 2)\n",
        "  components_reduction.append(z)\n",
        "\n",
        "components_reduction"
      ],
      "metadata": {
        "colab": {
          "base_uri": "https://localhost:8080/"
        },
        "id": "utoKECAuibSr",
        "outputId": "98a291be-8227-4095-9fd5-e5f4a00f7dc5"
      },
      "execution_count": null,
      "outputs": [
        {
          "output_type": "execute_result",
          "data": {
            "text/plain": [
              "[76.4, 69.9, 57.78, 30.74, 0.0]"
            ]
          },
          "metadata": {},
          "execution_count": 45
        }
      ]
    },
    {
      "cell_type": "code",
      "source": [
        "# Calculate training time reduction percentage\n",
        "\n",
        "train_time = [43.96, 49.2, 54.9,64.47, 76.19]\n",
        "train_time_reduction = []\n",
        "\n",
        "for time in train_time:\n",
        "  reduction = (1.0 - (time / 76.19)) * 100\n",
        "  reduction = round(reduction, 2)\n",
        "  train_time_reduction.append(reduction)\n",
        "\n",
        "train_time_reduction"
      ],
      "metadata": {
        "colab": {
          "base_uri": "https://localhost:8080/"
        },
        "id": "S4X71avMkjgP",
        "outputId": "f6f327de-6100-40c1-8c49-f5638e724486"
      },
      "execution_count": null,
      "outputs": [
        {
          "output_type": "execute_result",
          "data": {
            "text/plain": [
              "[42.3, 35.42, 27.94, 15.38, 0.0]"
            ]
          },
          "metadata": {},
          "execution_count": 46
        }
      ]
    },
    {
      "cell_type": "code",
      "source": [
        "# Calculate accuracy difference\n",
        "\n",
        "accuracy = [0.9722, 0.9744, 0.9733, 0.9735, 0.9744]\n",
        "accuracy_diff = []\n",
        "\n",
        "for acc in accuracy:\n",
        "  x = 0.9744 - acc\n",
        "  x = round(x, 4)\n",
        "  accuracy_diff.append(x)\n",
        "\n",
        "accuracy_diff"
      ],
      "metadata": {
        "colab": {
          "base_uri": "https://localhost:8080/"
        },
        "id": "IjfsmCc2kjp1",
        "outputId": "9773d0d3-404e-4a6b-8fd8-92e34ba919c7"
      },
      "execution_count": null,
      "outputs": [
        {
          "output_type": "execute_result",
          "data": {
            "text/plain": [
              "[0.0022, 0.0, 0.0011, 0.0009, 0.0]"
            ]
          },
          "metadata": {},
          "execution_count": 47
        }
      ]
    },
    {
      "cell_type": "code",
      "source": [
        "result = {'Data Variance' : ['85%', '90%', '95%', '99%', '100%'], \n",
        "          'Components' : components,\n",
        "          'Components Reduction (%)' : components_reduction,\n",
        "          'Accuracy' : accuracy,\n",
        "          'Accuracy Difference' : accuracy_diff,\n",
        "          'Train Time': train_time,\n",
        "          'Train time Reduction (%)' : train_time_reduction,\n",
        "          }\n",
        "res_df = pd.DataFrame(result)\n",
        "res_df"
      ],
      "metadata": {
        "colab": {
          "base_uri": "https://localhost:8080/",
          "height": 206
        },
        "id": "kIewwQgKkjsQ",
        "outputId": "82d7fa7a-1aa1-4f74-d322-fcbb76270dff"
      },
      "execution_count": null,
      "outputs": [
        {
          "output_type": "execute_result",
          "data": {
            "text/plain": [
              "  Data Variance  Components  Components Reduction (%)  Accuracy  \\\n",
              "0           85%         185                     76.40    0.9722   \n",
              "1           90%         236                     69.90    0.9744   \n",
              "2           95%         331                     57.78    0.9733   \n",
              "3           99%         543                     30.74    0.9735   \n",
              "4          100%         784                      0.00    0.9744   \n",
              "\n",
              "   Accuracy Difference  Train Time  Train time Reduction (%)  \n",
              "0               0.0022       43.96                     42.30  \n",
              "1               0.0000       49.20                     35.42  \n",
              "2               0.0011       54.90                     27.94  \n",
              "3               0.0009       64.47                     15.38  \n",
              "4               0.0000       76.19                      0.00  "
            ],
            "text/html": [
              "\n",
              "  <div id=\"df-c470147b-4911-4467-bd74-d3f7a50b3742\">\n",
              "    <div class=\"colab-df-container\">\n",
              "      <div>\n",
              "<style scoped>\n",
              "    .dataframe tbody tr th:only-of-type {\n",
              "        vertical-align: middle;\n",
              "    }\n",
              "\n",
              "    .dataframe tbody tr th {\n",
              "        vertical-align: top;\n",
              "    }\n",
              "\n",
              "    .dataframe thead th {\n",
              "        text-align: right;\n",
              "    }\n",
              "</style>\n",
              "<table border=\"1\" class=\"dataframe\">\n",
              "  <thead>\n",
              "    <tr style=\"text-align: right;\">\n",
              "      <th></th>\n",
              "      <th>Data Variance</th>\n",
              "      <th>Components</th>\n",
              "      <th>Components Reduction (%)</th>\n",
              "      <th>Accuracy</th>\n",
              "      <th>Accuracy Difference</th>\n",
              "      <th>Train Time</th>\n",
              "      <th>Train time Reduction (%)</th>\n",
              "    </tr>\n",
              "  </thead>\n",
              "  <tbody>\n",
              "    <tr>\n",
              "      <th>0</th>\n",
              "      <td>85%</td>\n",
              "      <td>185</td>\n",
              "      <td>76.40</td>\n",
              "      <td>0.9722</td>\n",
              "      <td>0.0022</td>\n",
              "      <td>43.96</td>\n",
              "      <td>42.30</td>\n",
              "    </tr>\n",
              "    <tr>\n",
              "      <th>1</th>\n",
              "      <td>90%</td>\n",
              "      <td>236</td>\n",
              "      <td>69.90</td>\n",
              "      <td>0.9744</td>\n",
              "      <td>0.0000</td>\n",
              "      <td>49.20</td>\n",
              "      <td>35.42</td>\n",
              "    </tr>\n",
              "    <tr>\n",
              "      <th>2</th>\n",
              "      <td>95%</td>\n",
              "      <td>331</td>\n",
              "      <td>57.78</td>\n",
              "      <td>0.9733</td>\n",
              "      <td>0.0011</td>\n",
              "      <td>54.90</td>\n",
              "      <td>27.94</td>\n",
              "    </tr>\n",
              "    <tr>\n",
              "      <th>3</th>\n",
              "      <td>99%</td>\n",
              "      <td>543</td>\n",
              "      <td>30.74</td>\n",
              "      <td>0.9735</td>\n",
              "      <td>0.0009</td>\n",
              "      <td>64.47</td>\n",
              "      <td>15.38</td>\n",
              "    </tr>\n",
              "    <tr>\n",
              "      <th>4</th>\n",
              "      <td>100%</td>\n",
              "      <td>784</td>\n",
              "      <td>0.00</td>\n",
              "      <td>0.9744</td>\n",
              "      <td>0.0000</td>\n",
              "      <td>76.19</td>\n",
              "      <td>0.00</td>\n",
              "    </tr>\n",
              "  </tbody>\n",
              "</table>\n",
              "</div>\n",
              "      <button class=\"colab-df-convert\" onclick=\"convertToInteractive('df-c470147b-4911-4467-bd74-d3f7a50b3742')\"\n",
              "              title=\"Convert this dataframe to an interactive table.\"\n",
              "              style=\"display:none;\">\n",
              "        \n",
              "  <svg xmlns=\"http://www.w3.org/2000/svg\" height=\"24px\"viewBox=\"0 0 24 24\"\n",
              "       width=\"24px\">\n",
              "    <path d=\"M0 0h24v24H0V0z\" fill=\"none\"/>\n",
              "    <path d=\"M18.56 5.44l.94 2.06.94-2.06 2.06-.94-2.06-.94-.94-2.06-.94 2.06-2.06.94zm-11 1L8.5 8.5l.94-2.06 2.06-.94-2.06-.94L8.5 2.5l-.94 2.06-2.06.94zm10 10l.94 2.06.94-2.06 2.06-.94-2.06-.94-.94-2.06-.94 2.06-2.06.94z\"/><path d=\"M17.41 7.96l-1.37-1.37c-.4-.4-.92-.59-1.43-.59-.52 0-1.04.2-1.43.59L10.3 9.45l-7.72 7.72c-.78.78-.78 2.05 0 2.83L4 21.41c.39.39.9.59 1.41.59.51 0 1.02-.2 1.41-.59l7.78-7.78 2.81-2.81c.8-.78.8-2.07 0-2.86zM5.41 20L4 18.59l7.72-7.72 1.47 1.35L5.41 20z\"/>\n",
              "  </svg>\n",
              "      </button>\n",
              "      \n",
              "  <style>\n",
              "    .colab-df-container {\n",
              "      display:flex;\n",
              "      flex-wrap:wrap;\n",
              "      gap: 12px;\n",
              "    }\n",
              "\n",
              "    .colab-df-convert {\n",
              "      background-color: #E8F0FE;\n",
              "      border: none;\n",
              "      border-radius: 50%;\n",
              "      cursor: pointer;\n",
              "      display: none;\n",
              "      fill: #1967D2;\n",
              "      height: 32px;\n",
              "      padding: 0 0 0 0;\n",
              "      width: 32px;\n",
              "    }\n",
              "\n",
              "    .colab-df-convert:hover {\n",
              "      background-color: #E2EBFA;\n",
              "      box-shadow: 0px 1px 2px rgba(60, 64, 67, 0.3), 0px 1px 3px 1px rgba(60, 64, 67, 0.15);\n",
              "      fill: #174EA6;\n",
              "    }\n",
              "\n",
              "    [theme=dark] .colab-df-convert {\n",
              "      background-color: #3B4455;\n",
              "      fill: #D2E3FC;\n",
              "    }\n",
              "\n",
              "    [theme=dark] .colab-df-convert:hover {\n",
              "      background-color: #434B5C;\n",
              "      box-shadow: 0px 1px 3px 1px rgba(0, 0, 0, 0.15);\n",
              "      filter: drop-shadow(0px 1px 2px rgba(0, 0, 0, 0.3));\n",
              "      fill: #FFFFFF;\n",
              "    }\n",
              "  </style>\n",
              "\n",
              "      <script>\n",
              "        const buttonEl =\n",
              "          document.querySelector('#df-c470147b-4911-4467-bd74-d3f7a50b3742 button.colab-df-convert');\n",
              "        buttonEl.style.display =\n",
              "          google.colab.kernel.accessAllowed ? 'block' : 'none';\n",
              "\n",
              "        async function convertToInteractive(key) {\n",
              "          const element = document.querySelector('#df-c470147b-4911-4467-bd74-d3f7a50b3742');\n",
              "          const dataTable =\n",
              "            await google.colab.kernel.invokeFunction('convertToInteractive',\n",
              "                                                     [key], {});\n",
              "          if (!dataTable) return;\n",
              "\n",
              "          const docLinkHtml = 'Like what you see? Visit the ' +\n",
              "            '<a target=\"_blank\" href=https://colab.research.google.com/notebooks/data_table.ipynb>data table notebook</a>'\n",
              "            + ' to learn more about interactive tables.';\n",
              "          element.innerHTML = '';\n",
              "          dataTable['output_type'] = 'display_data';\n",
              "          await google.colab.output.renderOutput(dataTable, element);\n",
              "          const docLink = document.createElement('div');\n",
              "          docLink.innerHTML = docLinkHtml;\n",
              "          element.appendChild(docLink);\n",
              "        }\n",
              "      </script>\n",
              "    </div>\n",
              "  </div>\n",
              "  "
            ]
          },
          "metadata": {},
          "execution_count": 48
        }
      ]
    }
  ]
}