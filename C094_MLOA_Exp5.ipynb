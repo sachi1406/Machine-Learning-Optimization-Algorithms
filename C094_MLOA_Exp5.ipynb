{
  "nbformat": 4,
  "nbformat_minor": 0,
  "metadata": {
    "colab": {
      "provenance": []
    },
    "kernelspec": {
      "name": "python3",
      "display_name": "Python 3"
    },
    "language_info": {
      "name": "python"
    }
  },
  "cells": [
    {
      "cell_type": "markdown",
      "source": [
        "# Implementing cvxpy library"
      ],
      "metadata": {
        "id": "HpVXjoze5dTb"
      }
    },
    {
      "cell_type": "code",
      "execution_count": null,
      "metadata": {
        "colab": {
          "base_uri": "https://localhost:8080/"
        },
        "id": "Q1iAr5Xm7_fl",
        "outputId": "2233706e-5dd1-460b-e40e-ca90d187a48e"
      },
      "outputs": [
        {
          "output_type": "stream",
          "name": "stdout",
          "text": [
            "Looking in indexes: https://pypi.org/simple, https://us-python.pkg.dev/colab-wheels/public/simple/\n",
            "Requirement already satisfied: cvxpy in /usr/local/lib/python3.9/dist-packages (1.2.3)\n",
            "Collecting cvxpy\n",
            "  Downloading cvxpy-1.3.0-cp39-cp39-manylinux_2_17_x86_64.manylinux2014_x86_64.whl (4.0 MB)\n",
            "\u001b[2K     \u001b[90m━━━━━━━━━━━━━━━━━━━━━━━━━━━━━━━━━━━━━━━━\u001b[0m \u001b[32m4.0/4.0 MB\u001b[0m \u001b[31m22.9 MB/s\u001b[0m eta \u001b[36m0:00:00\u001b[0m\n",
            "\u001b[?25hRequirement already satisfied: numpy>=1.15 in /usr/local/lib/python3.9/dist-packages (from cvxpy) (1.22.4)\n",
            "Requirement already satisfied: osqp>=0.4.1 in /usr/local/lib/python3.9/dist-packages (from cvxpy) (0.6.2.post0)\n",
            "Requirement already satisfied: setuptools<=64.0.2 in /usr/local/lib/python3.9/dist-packages (from cvxpy) (57.4.0)\n",
            "Requirement already satisfied: scipy>=1.1.0 in /usr/local/lib/python3.9/dist-packages (from cvxpy) (1.10.1)\n",
            "Requirement already satisfied: scs>=1.1.6 in /usr/local/lib/python3.9/dist-packages (from cvxpy) (3.2.2)\n",
            "Requirement already satisfied: ecos>=2 in /usr/local/lib/python3.9/dist-packages (from cvxpy) (2.0.12)\n",
            "Requirement already satisfied: qdldl in /usr/local/lib/python3.9/dist-packages (from osqp>=0.4.1->cvxpy) (0.1.5.post3)\n",
            "Installing collected packages: cvxpy\n",
            "  Attempting uninstall: cvxpy\n",
            "    Found existing installation: cvxpy 1.2.3\n",
            "    Uninstalling cvxpy-1.2.3:\n",
            "      Successfully uninstalled cvxpy-1.2.3\n",
            "Successfully installed cvxpy-1.3.0\n"
          ]
        }
      ],
      "source": [
        "!pip install --upgrade cvxpy"
      ]
    },
    {
      "cell_type": "code",
      "source": [
        "import cvxpy as cp\n",
        "import numpy as np"
      ],
      "metadata": {
        "id": "ygaysKxS-GGg"
      },
      "execution_count": null,
      "outputs": []
    },
    {
      "cell_type": "code",
      "source": [
        "n = 10\n",
        "np.random.seed(1)\n",
        "A = np.random.randn(n, n)\n",
        "x_star = np.random.randn(n)\n",
        "b = A @ x_star\n",
        "epsilon = 1e-2"
      ],
      "metadata": {
        "id": "qm0qPQJs-GnH"
      },
      "execution_count": null,
      "outputs": []
    },
    {
      "cell_type": "code",
      "source": [
        "x = cp.Variable(n)\n",
        "mse = cp.sum_squares(A @ x - b)/n\n",
        "problem = cp.Problem(cp.Minimize(cp.length(x)), [mse <= epsilon])\n",
        "print(\"Is problem DQCP?: \", problem.is_dqcp())\n",
        "\n",
        "problem.solve(qcp=True)\n",
        "print(\"Found a solution, with length: \", problem.value)"
      ],
      "metadata": {
        "colab": {
          "base_uri": "https://localhost:8080/"
        },
        "id": "CIfBVyNd-HPf",
        "outputId": "c3e92dda-38f8-4398-8d9d-99e79374308e"
      },
      "execution_count": null,
      "outputs": [
        {
          "output_type": "stream",
          "name": "stdout",
          "text": [
            "Is problem DQCP?:  True\n",
            "Found a solution, with length:  8.0\n"
          ]
        }
      ]
    },
    {
      "cell_type": "code",
      "source": [
        "print(\"MSE: \", mse.value)\n"
      ],
      "metadata": {
        "colab": {
          "base_uri": "https://localhost:8080/"
        },
        "id": "rZbSzP6p-HMo",
        "outputId": "300cc941-f65d-4e14-9ffc-cd4b2f74a83b"
      },
      "execution_count": null,
      "outputs": [
        {
          "output_type": "stream",
          "name": "stdout",
          "text": [
            "MSE:  0.00926009328813662\n"
          ]
        }
      ]
    },
    {
      "cell_type": "code",
      "source": [
        "print(\"x: \", x.value)"
      ],
      "metadata": {
        "colab": {
          "base_uri": "https://localhost:8080/"
        },
        "id": "3eAb_EDl-HIf",
        "outputId": "9bff8271-5fc5-4318-c86c-50edacc00b71"
      },
      "execution_count": null,
      "outputs": [
        {
          "output_type": "stream",
          "name": "stdout",
          "text": [
            "x:  [-2.58366030e-01  1.38434327e+00  2.10714108e-01  9.44811159e-01\n",
            " -1.14622208e+00  1.51283929e-01  6.62931941e-01 -1.16358584e+00\n",
            "  2.78132907e-13 -1.76314786e-13]\n"
          ]
        }
      ]
    },
    {
      "cell_type": "code",
      "source": [
        "print(\"x_star: \", x_star)"
      ],
      "metadata": {
        "colab": {
          "base_uri": "https://localhost:8080/"
        },
        "id": "qUqZHzYw-G9_",
        "outputId": "caddddd1-308a-46a5-ea67-ac4bd34b0a33"
      },
      "execution_count": null,
      "outputs": [
        {
          "output_type": "stream",
          "name": "stdout",
          "text": [
            "x_star:  [-0.44712856  1.2245077   0.40349164  0.59357852 -1.09491185  0.16938243\n",
            "  0.74055645 -0.9537006  -0.26621851  0.03261455]\n"
          ]
        }
      ]
    }
  ]
}